{
 "cells": [
  {
   "cell_type": "markdown",
   "id": "b61843d5-adaa-4ca3-b427-97dace1cdebe",
   "metadata": {},
   "source": [
    "## 2.1 결정 트리 소개 "
   ]
  },
  {
   "cell_type": "markdown",
   "id": "175ad871-c9a0-457f-9550-8a2828398258",
   "metadata": {},
   "source": [
    "## 2.2 결정 트리 알고리즘"
   ]
  },
  {
   "cell_type": "markdown",
   "id": "c1334d1a-afae-4b3f-9a33-625cca4f9368",
   "metadata": {},
   "source": [
    "### 2.2.1 첫 번째 결정 트리 모델"
   ]
  },
  {
   "cell_type": "code",
   "execution_count": null,
   "id": "77b85ccd-f323-4422-97d6-c6ed436b0633",
   "metadata": {},
   "outputs": [],
   "source": [
    "import pandas as pd\n",
    "import num"
   ]
  }
 ],
 "metadata": {
  "kernelspec": {
   "display_name": "Python 3 (ipykernel)",
   "language": "python",
   "name": "python3"
  },
  "language_info": {
   "codemirror_mode": {
    "name": "ipython",
    "version": 3
   },
   "file_extension": ".py",
   "mimetype": "text/x-python",
   "name": "python",
   "nbconvert_exporter": "python",
   "pygments_lexer": "ipython3",
   "version": "3.10.1"
  }
 },
 "nbformat": 4,
 "nbformat_minor": 5
}
